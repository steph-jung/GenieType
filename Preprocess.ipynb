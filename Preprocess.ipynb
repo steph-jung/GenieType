{
 "cells": [
  {
   "cell_type": "markdown",
   "metadata": {
    "toc": true
   },
   "source": [
    "<h1>Table of Contents<span class=\"tocSkip\"></span></h1>\n",
    "<div class=\"toc\"><ul class=\"toc-item\"><li><span><a href=\"#Convert-XML-to-CSV\" data-toc-modified-id=\"Convert-XML-to-CSV-1\"><span class=\"toc-item-num\">1&nbsp;&nbsp;</span>Convert XML to CSV</a></span></li><li><span><a href=\"#Read-CSV\" data-toc-modified-id=\"Read-CSV-2\"><span class=\"toc-item-num\">2&nbsp;&nbsp;</span>Read CSV</a></span></li></ul></div>"
   ]
  },
  {
   "cell_type": "code",
   "execution_count": 1,
   "metadata": {
    "ExecuteTime": {
     "end_time": "2020-06-12T23:21:16.005899Z",
     "start_time": "2020-06-12T23:21:15.875409Z"
    }
   },
   "outputs": [
    {
     "name": "stdout",
     "output_type": "stream",
     "text": [
      "/Users/stephj/git/GenieType/venv/bin/python\r\n"
     ]
    }
   ],
   "source": [
    "!which python"
   ]
  },
  {
   "cell_type": "code",
   "execution_count": 268,
   "metadata": {
    "ExecuteTime": {
     "end_time": "2020-06-13T04:33:57.548139Z",
     "start_time": "2020-06-13T04:33:57.545298Z"
    }
   },
   "outputs": [],
   "source": [
    "import os\n",
    "import re\n",
    "import glob\n",
    "import csv\n",
    "import pandas as pd\n",
    "from bs4 import BeautifulSoup"
   ]
  },
  {
   "cell_type": "markdown",
   "metadata": {},
   "source": [
    "# Convert XML to CSV"
   ]
  },
  {
   "cell_type": "code",
   "execution_count": 48,
   "metadata": {
    "ExecuteTime": {
     "end_time": "2020-06-12T23:56:40.815724Z",
     "start_time": "2020-06-12T23:56:40.753106Z"
    }
   },
   "outputs": [],
   "source": [
    "dataset = sorted(glob.glob('blogs/*.xml'))"
   ]
  },
  {
   "cell_type": "code",
   "execution_count": 280,
   "metadata": {
    "ExecuteTime": {
     "end_time": "2020-06-13T04:48:42.263263Z",
     "start_time": "2020-06-13T04:48:42.258597Z"
    }
   },
   "outputs": [],
   "source": [
    "def xml2csv(data):\n",
    "    \"\"\"\n",
    "    Extract <post> from XML file into CSV.\n",
    "    \"\"\"\n",
    "    file = open(data, 'rb').read()\n",
    "    soup = BeautifulSoup(file, \"xml\")\n",
    "    texts = []\n",
    "    for t in soup.find_all('post'):\n",
    "        if t.string != None:\n",
    "            texts.append(t.string.strip())\n",
    "    return texts\n"
   ]
  },
  {
   "cell_type": "code",
   "execution_count": 285,
   "metadata": {
    "ExecuteTime": {
     "end_time": "2020-06-13T04:51:15.099031Z",
     "start_time": "2020-06-13T04:51:15.094968Z"
    }
   },
   "outputs": [],
   "source": [
    "def process_all(dataset):\n",
    "    \"\"\"\n",
    "    Process xml2csv() to all files in dataset.\n",
    "    \"\"\"\n",
    "    texts = []\n",
    "    with open('blot_texts.csv', 'w', newline='' ) as f:\n",
    "        wr = csv.writer(f )\n",
    "        for data in dataset:\n",
    "            ls = xml2csv(data)\n",
    "            wr.writerow(ls)"
   ]
  },
  {
   "cell_type": "code",
   "execution_count": 287,
   "metadata": {
    "ExecuteTime": {
     "end_time": "2020-06-13T04:53:22.462842Z",
     "start_time": "2020-06-13T04:51:52.558335Z"
    }
   },
   "outputs": [],
   "source": [
    "texts = process_all(dataset)"
   ]
  },
  {
   "cell_type": "markdown",
   "metadata": {},
   "source": [
    "# Read CSV"
   ]
  },
  {
   "cell_type": "code",
   "execution_count": 290,
   "metadata": {
    "ExecuteTime": {
     "end_time": "2020-06-13T05:05:41.924376Z",
     "start_time": "2020-06-13T05:05:41.920363Z"
    }
   },
   "outputs": [
    {
     "data": {
      "text/plain": [
       "131072"
      ]
     },
     "execution_count": 290,
     "metadata": {},
     "output_type": "execute_result"
    }
   ],
   "source": [
    "csv.field_size_limit(100000000)"
   ]
  },
  {
   "cell_type": "code",
   "execution_count": 308,
   "metadata": {
    "ExecuteTime": {
     "end_time": "2020-06-13T05:59:23.122501Z",
     "start_time": "2020-06-13T05:59:23.118081Z"
    }
   },
   "outputs": [],
   "source": [
    "def read_csv(file):\n",
    "    \"\"\"\n",
    "    Read csv file.\n",
    "    \"\"\"\n",
    "    text = []\n",
    "    with open(file, 'r') as f:\n",
    "        reader = csv.reader(f, quoting=csv.QUOTE_MINIMAL)\n",
    "        for r in reader:\n",
    "            text.append(r)\n",
    "    return text"
   ]
  },
  {
   "cell_type": "code",
   "execution_count": 307,
   "metadata": {
    "ExecuteTime": {
     "end_time": "2020-06-13T05:58:34.332490Z",
     "start_time": "2020-06-13T05:58:34.328934Z"
    }
   },
   "outputs": [
    {
     "data": {
      "text/plain": [
       "19320"
      ]
     },
     "execution_count": 307,
     "metadata": {},
     "output_type": "execute_result"
    }
   ],
   "source": [
    "text = read_csv('blog_texts.csv')"
   ]
  },
  {
   "cell_type": "code",
   "execution_count": null,
   "metadata": {},
   "outputs": [],
   "source": []
  }
 ],
 "metadata": {
  "kernelspec": {
   "display_name": "Python 3",
   "language": "python",
   "name": "python3"
  },
  "language_info": {
   "codemirror_mode": {
    "name": "ipython",
    "version": 3
   },
   "file_extension": ".py",
   "mimetype": "text/x-python",
   "name": "python",
   "nbconvert_exporter": "python",
   "pygments_lexer": "ipython3",
   "version": "3.8.3"
  },
  "toc": {
   "base_numbering": 1,
   "nav_menu": {},
   "number_sections": true,
   "sideBar": true,
   "skip_h1_title": false,
   "title_cell": "Table of Contents",
   "title_sidebar": "Contents",
   "toc_cell": true,
   "toc_position": {},
   "toc_section_display": true,
   "toc_window_display": false
  }
 },
 "nbformat": 4,
 "nbformat_minor": 4
}
