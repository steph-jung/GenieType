{
 "cells": [
  {
   "cell_type": "markdown",
   "metadata": {
    "toc": true
   },
   "source": [
    "<h1>Table of Contents<span class=\"tocSkip\"></span></h1>\n",
    "<div class=\"toc\"><ul class=\"toc-item\"><li><span><a href=\"#Convert-XML-to-CSV\" data-toc-modified-id=\"Convert-XML-to-CSV-1\"><span class=\"toc-item-num\">1&nbsp;&nbsp;</span>Convert XML to CSV</a></span></li><li><span><a href=\"#Read-CSV\" data-toc-modified-id=\"Read-CSV-2\"><span class=\"toc-item-num\">2&nbsp;&nbsp;</span>Read CSV</a></span></li></ul></div>"
   ]
  },
  {
   "cell_type": "code",
   "execution_count": 1,
   "metadata": {
    "ExecuteTime": {
     "end_time": "2020-06-12T23:21:16.005899Z",
     "start_time": "2020-06-12T23:21:15.875409Z"
    }
   },
   "outputs": [
    {
     "name": "stdout",
     "output_type": "stream",
     "text": [
      "/Users/stephj/git/GenieType/venv/bin/python\r\n"
     ]
    }
   ],
   "source": [
    "!which python"
   ]
  },
  {
   "cell_type": "code",
   "execution_count": 268,
   "metadata": {
    "ExecuteTime": {
     "end_time": "2020-06-13T04:33:57.548139Z",
     "start_time": "2020-06-13T04:33:57.545298Z"
    }
   },
   "outputs": [],
   "source": [
    "import os\n",
    "import re\n",
    "import glob\n",
    "import csv\n",
    "import pandas as pd\n",
    "from bs4 import BeautifulSoup"
   ]
  },
  {
   "cell_type": "markdown",
   "metadata": {},
   "source": [
    "# Convert XML to CSV"
   ]
  },
  {
   "cell_type": "code",
   "execution_count": 48,
   "metadata": {
    "ExecuteTime": {
     "end_time": "2020-06-12T23:56:40.815724Z",
     "start_time": "2020-06-12T23:56:40.753106Z"
    }
   },
   "outputs": [],
   "source": [
    "dataset = sorted(glob.glob('blogs/*.xml'))"
   ]
  },
  {
   "cell_type": "code",
   "execution_count": 280,
   "metadata": {
    "ExecuteTime": {
     "end_time": "2020-06-13T04:48:42.263263Z",
     "start_time": "2020-06-13T04:48:42.258597Z"
    }
   },
   "outputs": [],
   "source": [
    "def xml2csv(data):\n",
    "    \"\"\"\n",
    "    Extract <post> from XML file into CSV.\n",
    "    \"\"\"\n",
    "    file = open(data, 'rb').read()\n",
    "    soup = BeautifulSoup(file, \"xml\")\n",
    "    texts = []\n",
    "    for t in soup.find_all('post'):\n",
    "        if t.string != None:\n",
    "            texts.append(t.string.strip())\n",
    "    return texts\n"
   ]
  },
  {
   "cell_type": "code",
   "execution_count": 285,
   "metadata": {
    "ExecuteTime": {
     "end_time": "2020-06-13T04:51:15.099031Z",
     "start_time": "2020-06-13T04:51:15.094968Z"
    }
   },
   "outputs": [],
   "source": [
    "def process_all(dataset):\n",
    "    \"\"\"\n",
    "    Process xml2csv() to all files in dataset.\n",
    "    \"\"\"\n",
    "    texts = []\n",
    "    with open('blot_texts.csv', 'w', newline='' ) as f:\n",
    "        wr = csv.writer(f )\n",
    "        for data in dataset:\n",
    "            ls = xml2csv(data)\n",
    "            wr.writerow(ls)"
   ]
  },
  {
   "cell_type": "code",
   "execution_count": 287,
   "metadata": {
    "ExecuteTime": {
     "end_time": "2020-06-13T04:53:22.462842Z",
     "start_time": "2020-06-13T04:51:52.558335Z"
    }
   },
   "outputs": [],
   "source": [
    "texts = process_all(dataset)"
   ]
  },
  {
   "cell_type": "markdown",
   "metadata": {},
   "source": [
    "# Read CSV"
   ]
  },
  {
   "cell_type": "code",
   "execution_count": 290,
   "metadata": {
    "ExecuteTime": {
     "end_time": "2020-06-13T05:05:41.924376Z",
     "start_time": "2020-06-13T05:05:41.920363Z"
    }
   },
   "outputs": [
    {
     "data": {
      "text/plain": [
       "131072"
      ]
     },
     "execution_count": 290,
     "metadata": {},
     "output_type": "execute_result"
    }
   ],
   "source": [
    "csv.field_size_limit(100000000)"
   ]
  },
  {
   "cell_type": "code",
   "execution_count": 308,
   "metadata": {
    "ExecuteTime": {
     "end_time": "2020-06-13T05:59:23.122501Z",
     "start_time": "2020-06-13T05:59:23.118081Z"
    }
   },
   "outputs": [],
   "source": [
    "def read_csv(file):\n",
    "    \"\"\"\n",
    "    Read csv file.\n",
    "    \"\"\"\n",
    "    text = []\n",
    "    with open(file, 'r') as f:\n",
    "        reader = csv.reader(f, quoting=csv.QUOTE_MINIMAL)\n",
    "        for r in reader:\n",
    "            text.append(r)\n",
    "    return text"
   ]
  },
  {
   "cell_type": "code",
   "execution_count": 307,
   "metadata": {
    "ExecuteTime": {
     "end_time": "2020-06-13T05:58:34.332490Z",
     "start_time": "2020-06-13T05:58:34.328934Z"
    }
   },
   "outputs": [
    {
     "data": {
      "text/plain": [
       "19320"
      ]
     },
     "execution_count": 307,
     "metadata": {},
     "output_type": "execute_result"
    }
   ],
   "source": [
    "text = read_csv('blog_texts.csv')"
   ]
  },
  {
   "cell_type": "code",
   "execution_count": 312,
   "metadata": {
    "ExecuteTime": {
     "end_time": "2020-06-13T06:12:25.469254Z",
     "start_time": "2020-06-13T06:12:25.396624Z"
    }
   },
   "outputs": [
    {
     "data": {
      "text/plain": [
       "['Well, everyone got up and going this morning.  It\\'s still raining, but that\\'s okay with me.  Sort of suits my mood.  I could easily have stayed home in bed with my book and the cats.  This has been a lot of rain though!  People have wet basements, there are lakes where there should be golf courses and fields, everything is green, green, green.  But, it is supposed to be 26 degrees by Friday, so we\\'ll be dealing with mosquitos next week.  I heard Winnipeg described as an \"Old Testament\" city on  urlLink CBC Radio One  last week and it sort of rings true.  Floods, infestations, etc., etc..',\n",
       " 'My four-year old never stops talking.  She\\'ll say \"Mom?\" and when I say \"Yes?\", she\\'ll say \"Ummm.... ummm... oh yeah.  Where do lady bugs hide in the rain?\"  Anything to hear her own voice. Very, very exhausting.    Now I remember!  This is why I go to work!   *Sigh*',\n",
       " \"Actually it's not raining yet, but I bought 15 tickets to the  urlLink Goldeyes  game for my Mom's birthday tonight, and it is supposed to rain.  Do they cancel baseball games because of rain?  Although the ballpark is beautiful, it ain't the  urlLink SkyDome .  We used to go to the Jays games occassionally when we lived in Toronto and really like taking the kids to the Goldeyes games now.  I don't know what  urlLink Blue Jays  tickets cost now, but I'm sure it's cheaper here in Winnipeg.  Oh, I just checked and it  definitely  is!\",\n",
       " \"Ha! Just set up my RSS feed - that is so easy!  Why doesn't everyone do it?  Enough for today.  The sun is shining and I should be outside planting my poor flowers (that have spent far too long in their pots) but I have 3 kindergartners and a preschooler who are refusing to go outside.  Little gameboy junkies...  I should talk!  Last post today, I promise.\",\n",
       " \"Oh, which just reminded me, we were talking about canning food at coffee break this morning.  Is this becoming a lost art?  Are there any people under 40 who know how to do this?  Those of us at coffee that fall in that age range couldn't.  What would happen if the world as we know it ceased to exist (a la  urlLink Day After Tomorrow  which is only being released today and I can't wait to see - I love a good escapist picture with lots of special effects) and we had to preserve our food somehow?  Well, we in Canada definitely would need to preserve our food.  I found lots of sites on canning, including  urlLink this one , but I guess that wouldn't help me much if everything went. Better print it out and keep it just in case!\",\n",
       " 'I\\'ve tried starting blog after blog and it just never feels right.  Then I read today that it feels strange to most people, but the more you do it the better it gets (hmm, sounds suspiciously like something else!) so I decided to give it another try.    My husband bought me a notepad at  urlLink McNally  (the best bookstore in Western Canada) with that title and a picture of a 50s housewife grinning desperately.  Each page has something funny like \"New curtains!  Hurrah!\".  For some reason it struck me as absolutely hilarious and has stuck in my head ever since.  What were those women thinking?',\n",
       " 'My 20th high school  urlLink reunion  is this weekend.  There are over 100 people coming, so it should be a good time.  Lots of names from the past.  Funny, I barely ever run into anyone, and yet a lot are still in the city.',\n",
       " 'We always have pizza on Friday nights.  It takes the stress out of \"what am I going to make for dinner\" and the kids look forward to it.  In fact, many of their friends look forward to it too!  But tonight we are having a family gathering at my mom\\'s and I\\'ve offered to make pizza for all the kids.  So I\\'ve been madly making dough in my breadmaker (which is very easy but still needs to be done) and freezing it.  Now I have to go home and cut vegetables for the vegetarian cousins\\' pizzas and grate a huge amount of cheese.  Then I\\'ll have to cart it all over to my mom\\'s without wrecking the crusts.   It is not the usual relaxing Friday night, but this hasn\\'t been a relaxed week at all.',\n",
       " \"Okay, I saw it this past weekend.  Not as good as Independence Day for sure.  Better than Raising Helen which I also saw.  Yes, two movies in one weekend!  One was with book club, and one was with my husband since we hadn't been out together forever.  Guess which was with whom...\",\n",
       " \"I've been cataloguing film scripts at work.  What fun!  I have to look a lot of the writers up on the  urlLink IMDB .  What a great database!  I read somewhere that there were lots of mistakes in there, but given the absolutely huge amount of information, it is bound to happen.  And everything links!  I love it.  Library catalogues should be so good.    Best of all is getting a little sneak peek into people's lives.  Just enough to get your imagination going...\",\n",
       " \"Paul Martin promised today that if he is elected he will create 250,000 new affordable child care spaces.  I think they promised something like that last time around too.  But if they really want to do something for working women, they should make it easier for women to work and be with their families.  An affordable child care space would be helpful, but I want to spend more time with my children, so I need more flexible working arrangements.  Instead of a year's maternity leave, what if they made it mandatory for employers to allow women five years of part-time work.  If we worked at least 50% they should have to hold our jobs for us.  I think that would appeal to a lot of moms.  And then there would be a lot of part-time child care spaces too, which are  impossible  to find right now.    Yes, I'm still pondering quitting my job.  It seems to me to be ineveitable now... just a question of when.\",\n",
       " \"No, I still haven't seen it, but apparently it is  urlLink not so good   unless  you are a librarian.  Ha!  I am!\",\n",
       " \"Well, it's over!  It was good to see so many people.  Most haven't changed much, but some have changed a great deal.  Funny how things that were important in high school no longer are.    Anyway, it is over and I'm glad.  I was very, very tired all week and am glad that I had 4 days off to snooze a bit.\"]"
      ]
     },
     "execution_count": 312,
     "metadata": {},
     "output_type": "execute_result"
    }
   ],
   "source": [
    "text[0]"
   ]
  },
  {
   "cell_type": "code",
   "execution_count": null,
   "metadata": {},
   "outputs": [],
   "source": []
  }
 ],
 "metadata": {
  "kernelspec": {
   "display_name": "Python 3",
   "language": "python",
   "name": "python3"
  },
  "language_info": {
   "codemirror_mode": {
    "name": "ipython",
    "version": 3
   },
   "file_extension": ".py",
   "mimetype": "text/x-python",
   "name": "python",
   "nbconvert_exporter": "python",
   "pygments_lexer": "ipython3",
   "version": "3.8.3"
  },
  "toc": {
   "base_numbering": 1,
   "nav_menu": {},
   "number_sections": true,
   "sideBar": true,
   "skip_h1_title": false,
   "title_cell": "Table of Contents",
   "title_sidebar": "Contents",
   "toc_cell": true,
   "toc_position": {},
   "toc_section_display": true,
   "toc_window_display": false
  }
 },
 "nbformat": 4,
 "nbformat_minor": 4
}
