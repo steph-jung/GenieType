{
 "cells": [
  {
   "cell_type": "markdown",
   "metadata": {
    "toc": true
   },
   "source": [
    "<h1>Table of Contents<span class=\"tocSkip\"></span></h1>\n",
    "<div class=\"toc\"><ul class=\"toc-item\"><li><span><a href=\"#Load-text-data\" data-toc-modified-id=\"Load-text-data-1\"><span class=\"toc-item-num\">1&nbsp;&nbsp;</span>Load text data</a></span></li><li><span><a href=\"#Model\" data-toc-modified-id=\"Model-2\"><span class=\"toc-item-num\">2&nbsp;&nbsp;</span>Model</a></span></li><li><span><a href=\"#Train\" data-toc-modified-id=\"Train-3\"><span class=\"toc-item-num\">3&nbsp;&nbsp;</span>Train</a></span></li></ul></div>"
   ]
  },
  {
   "cell_type": "code",
   "execution_count": 1,
   "metadata": {
    "ExecuteTime": {
     "end_time": "2020-06-24T01:24:49.303618Z",
     "start_time": "2020-06-24T01:24:49.276366Z"
    }
   },
   "outputs": [],
   "source": [
    "reset -fs"
   ]
  },
  {
   "cell_type": "code",
   "execution_count": 2,
   "metadata": {
    "ExecuteTime": {
     "end_time": "2020-06-24T01:24:50.430968Z",
     "start_time": "2020-06-24T01:24:49.779187Z"
    }
   },
   "outputs": [],
   "source": [
    "import os\n",
    "from io import open\n",
    "import time\n",
    "import math\n",
    "import torch\n",
    "import torch.nn as nn\n",
    "import torch.nn.functional as F\n"
   ]
  },
  {
   "cell_type": "code",
   "execution_count": 3,
   "metadata": {
    "ExecuteTime": {
     "end_time": "2020-06-24T01:24:50.874852Z",
     "start_time": "2020-06-24T01:24:50.862400Z"
    }
   },
   "outputs": [
    {
     "data": {
      "text/plain": [
       "device(type='cpu')"
      ]
     },
     "execution_count": 3,
     "metadata": {},
     "output_type": "execute_result"
    }
   ],
   "source": [
    "device = torch.device(\"cuda\" if torch.cuda.is_available() else \"cpu\")\n",
    "device"
   ]
  },
  {
   "cell_type": "code",
   "execution_count": 4,
   "metadata": {
    "ExecuteTime": {
     "end_time": "2020-06-24T01:24:51.277971Z",
     "start_time": "2020-06-24T01:24:51.269715Z"
    }
   },
   "outputs": [
    {
     "data": {
      "text/plain": [
       "<torch._C.Generator at 0x7f472996f3b0>"
      ]
     },
     "execution_count": 4,
     "metadata": {},
     "output_type": "execute_result"
    }
   ],
   "source": [
    "torch.manual_seed(1)"
   ]
  },
  {
   "cell_type": "markdown",
   "metadata": {},
   "source": [
    "# Load text data"
   ]
  },
  {
   "cell_type": "code",
   "execution_count": 5,
   "metadata": {
    "ExecuteTime": {
     "end_time": "2020-06-24T01:24:57.114956Z",
     "start_time": "2020-06-24T01:24:57.108197Z"
    }
   },
   "outputs": [],
   "source": [
    "class Dictionary(object):\n",
    "    def __init__(self):\n",
    "        self.word2idx = {}\n",
    "        self.idx2word = []\n",
    "        \n",
    "    def add_word(self, word):\n",
    "        \"\"\"\n",
    "        Add word to 'self.idx2word' and 'self.word2idx'.\n",
    "        \"\"\"\n",
    "        if word not in self.word2idx:\n",
    "            self.idx2word.append(word)\n",
    "            self.word2idx[word] = len(self.idx2word) - 1 # starts from 0\n",
    "        return self.word2idx[word]\n",
    "    \n",
    "    def __len__(self):\n",
    "        return len(self.idx2word)"
   ]
  },
  {
   "cell_type": "code",
   "execution_count": 6,
   "metadata": {
    "ExecuteTime": {
     "end_time": "2020-06-24T01:25:00.748949Z",
     "start_time": "2020-06-24T01:25:00.739266Z"
    }
   },
   "outputs": [],
   "source": [
    "class Corpus(object):\n",
    "    def __init__(self, path):\n",
    "        self.dictionary = Dictionary()\n",
    "        self.train = self.tokenize(os.path.join(path, 'train.txt'))\n",
    "        self.valid = self.tokenize(os.path.join(path, 'valid.txt'))\n",
    "        self.test = self.tokenize(os.path.join(path, 'test.txt'))\n",
    "        \n",
    "    def tokenize(self, path):\n",
    "        \"\"\"\n",
    "        Tokenize a text file and add tokens to the dictionary.\n",
    "        \"\"\"\n",
    "        assert os.path.exists(path)\n",
    "        \n",
    "        with open(path, 'r', encoding=\"utf8\") as f:\n",
    "            idx_all = []\n",
    "            for line in f:\n",
    "                words = line.split() + ['<eos>']\n",
    "                idx_line = []\n",
    "                for word in words:\n",
    "                    self.dictionary.add_word(word)\n",
    "                    idx_line.append(self.dictionary.word2idx[word])\n",
    "                idx_all.append(torch.tensor(idx_line).type(torch.int64))\n",
    "            ids = torch.cat(idx_all)               \n",
    "        return ids"
   ]
  },
  {
   "cell_type": "code",
   "execution_count": 7,
   "metadata": {
    "ExecuteTime": {
     "end_time": "2020-06-24T01:25:05.737532Z",
     "start_time": "2020-06-24T01:25:03.677154Z"
    }
   },
   "outputs": [],
   "source": [
    "model_data_filepath = 'data/'\n",
    "\n",
    "corpus = Corpus(model_data_filepath + 'wikitext-2')"
   ]
  },
  {
   "cell_type": "code",
   "execution_count": 8,
   "metadata": {
    "ExecuteTime": {
     "end_time": "2020-06-24T01:25:07.183445Z",
     "start_time": "2020-06-24T01:25:07.177917Z"
    }
   },
   "outputs": [
    {
     "data": {
      "text/plain": [
       "9"
      ]
     },
     "execution_count": 8,
     "metadata": {},
     "output_type": "execute_result"
    }
   ],
   "source": [
    "corpus.dictionary.word2idx['<unk>']"
   ]
  },
  {
   "cell_type": "code",
   "execution_count": 18,
   "metadata": {
    "ExecuteTime": {
     "end_time": "2020-06-24T01:28:54.737010Z",
     "start_time": "2020-06-24T01:28:54.731983Z"
    }
   },
   "outputs": [],
   "source": [
    "def make_batch(data, n_seq):\n",
    "    \"\"\"\n",
    "    Trim data and cleanly divide data into n_seq chunks.\n",
    "    \"\"\"\n",
    "    nbatch = data.size(0) // n_seq\n",
    "    \n",
    "    # Trim off remainders.\n",
    "    data = data.narrow(0, 0, nbatch * n_seq)\n",
    "    \n",
    "    # Evenly divide the data across the n_seq batches.\n",
    "    # Shape : ([bptt, n_seq])\n",
    "    return data.view(-1, n_seq).to(device)"
   ]
  },
  {
   "cell_type": "code",
   "execution_count": 10,
   "metadata": {
    "ExecuteTime": {
     "end_time": "2020-06-24T01:25:36.353450Z",
     "start_time": "2020-06-24T01:25:36.346728Z"
    }
   },
   "outputs": [
    {
     "data": {
      "text/plain": [
       "2088628"
      ]
     },
     "execution_count": 10,
     "metadata": {},
     "output_type": "execute_result"
    }
   ],
   "source": [
    "len(corpus.train)"
   ]
  },
  {
   "cell_type": "code",
   "execution_count": 64,
   "metadata": {
    "ExecuteTime": {
     "end_time": "2020-06-24T02:26:00.634463Z",
     "start_time": "2020-06-24T02:26:00.628408Z"
    }
   },
   "outputs": [],
   "source": [
    "n_seq = 80\n",
    "eval_n_seq = 10"
   ]
  },
  {
   "cell_type": "code",
   "execution_count": 65,
   "metadata": {
    "ExecuteTime": {
     "end_time": "2020-06-24T02:26:01.144392Z",
     "start_time": "2020-06-24T02:26:01.137898Z"
    }
   },
   "outputs": [],
   "source": [
    "train_data = make_batch(corpus.train, n_seq)[:1000]\n",
    "val_data = make_batch(corpus.valid, eval_n_seq)[:1000]\n",
    "test_data = make_batch(corpus.test, eval_n_seq)[:1000]"
   ]
  },
  {
   "cell_type": "code",
   "execution_count": 66,
   "metadata": {
    "ExecuteTime": {
     "end_time": "2020-06-24T02:26:01.596429Z",
     "start_time": "2020-06-24T02:26:01.589585Z"
    }
   },
   "outputs": [
    {
     "data": {
      "text/plain": [
       "(torch.Size([1000, 80]), torch.Size([1000, 10]))"
      ]
     },
     "execution_count": 66,
     "metadata": {},
     "output_type": "execute_result"
    }
   ],
   "source": [
    "train_data.shape, val_data.shape"
   ]
  },
  {
   "cell_type": "markdown",
   "metadata": {},
   "source": [
    "# Model"
   ]
  },
  {
   "cell_type": "code",
   "execution_count": 45,
   "metadata": {
    "ExecuteTime": {
     "end_time": "2020-06-24T01:32:42.501562Z",
     "start_time": "2020-06-24T01:32:42.489116Z"
    }
   },
   "outputs": [],
   "source": [
    "class NWPMModel(nn.Module):\n",
    "    def __init__(self, ntoken, nemb, nhid, nlayers, dropout=0.5, tie_weights=False):\n",
    "        super().__init__()\n",
    "        self.ntoken = ntoken\n",
    "        self.drop = nn.Dropout(dropout)\n",
    "        self.encoder = nn.Embedding(ntoken, nemb)\n",
    "        self.rnn = nn.GRU(nemb, nhid, nlayers, dropout=dropout)\n",
    "        self.decoder = nn.Linear(nhid, ntoken)\n",
    "        \n",
    "        if tie_weights:\n",
    "            if nhid != nemb:\n",
    "                raise ValueError('When using the tied flag, nhid must be equal to nemb')\n",
    "            self.decoder.weight = self.encoder.weight\n",
    "        \n",
    "        self.init_weights()\n",
    "        \n",
    "        self.nhid = nhid\n",
    "        self.nlayers = nlayers\n",
    "        \n",
    "    def init_weights(self):\n",
    "        initrange = 0.1\n",
    "        self.encoder.weight.data.uniform_(-initrange, initrange)\n",
    "        self.decoder.bias.data.zero_()\n",
    "        self.decoder.weight.data.uniform_(-initrange, initrange)\n",
    "        \n",
    "    def forward(self, input, hidden):\n",
    "        emb = self.drop(self.encoder(input))\n",
    "        output, hidden = self.rnn(emb, hidden)\n",
    "        output = self.drop(output)\n",
    "        decoded = self.decoder(output)\n",
    "        decoded = decoded.view(-1, self.ntoken)\n",
    "        return F.log_softmax(decoded, dim=1), hidden\n",
    "    \n",
    "    def init_hidden(self, bsz):\n",
    "        weight = next(self.parameters())\n",
    "        return weight.new_zeros(self.nlayers, bsz, self.nhid)"
   ]
  },
  {
   "cell_type": "code",
   "execution_count": 69,
   "metadata": {
    "ExecuteTime": {
     "end_time": "2020-06-24T02:26:45.449473Z",
     "start_time": "2020-06-24T02:26:45.444739Z"
    }
   },
   "outputs": [],
   "source": [
    "criterion = nn.NLLLoss()\n",
    "ntokens = len(corpus.dictionary)\n",
    "bptt = 35"
   ]
  },
  {
   "cell_type": "code",
   "execution_count": 70,
   "metadata": {
    "ExecuteTime": {
     "end_time": "2020-06-24T02:26:48.768128Z",
     "start_time": "2020-06-24T02:26:48.611340Z"
    }
   },
   "outputs": [],
   "source": [
    "model = NWPMModel(\n",
    "    ntoken = ntokens,\n",
    "    nemb = 200,\n",
    "    nhid = 200,\n",
    "    nlayers=5,\n",
    "    tie_weights=True\n",
    ")"
   ]
  },
  {
   "cell_type": "markdown",
   "metadata": {},
   "source": [
    "# Train"
   ]
  },
  {
   "cell_type": "code",
   "execution_count": 71,
   "metadata": {
    "ExecuteTime": {
     "end_time": "2020-06-24T02:26:56.934588Z",
     "start_time": "2020-06-24T02:26:56.929798Z"
    }
   },
   "outputs": [],
   "source": [
    "def repackage_hidden(h):\n",
    "    \"\"\"\n",
    "    Wraps hidden states in new Tensors, to detach them from their history.\n",
    "    \"\"\"\n",
    "    if isinstance(h, torch.Tensor):\n",
    "        return h.detach()\n",
    "    else:\n",
    "        return tuple(repackage_hidden(v) for v in h)"
   ]
  },
  {
   "cell_type": "code",
   "execution_count": 72,
   "metadata": {
    "ExecuteTime": {
     "end_time": "2020-06-24T02:26:57.373372Z",
     "start_time": "2020-06-24T02:26:57.367936Z"
    }
   },
   "outputs": [],
   "source": [
    "def get_batch(source, i):\n",
    "    \"\"\"\n",
    "    Subdivides the source into chunks of length bptt.\n",
    "    The chunks are along dimension 0 (length of each row is bptt).\n",
    "    \"\"\"\n",
    "    seq_len = min(bptt, len(source)-1-i)\n",
    "    data = source[i:i+seq_len]\n",
    "    target = source[i+1:i+1+seq_len].view(-1)\n",
    "    return data, target"
   ]
  },
  {
   "cell_type": "code",
   "execution_count": 83,
   "metadata": {
    "ExecuteTime": {
     "end_time": "2020-06-24T02:46:12.781252Z",
     "start_time": "2020-06-24T02:46:12.772433Z"
    }
   },
   "outputs": [],
   "source": [
    "def evaluate(dataset, ntokens=ntokens, bptt=bptt):\n",
    "    model.eval() # disables dropout\n",
    "    sum_loss = 0\n",
    "    hidden = model.init_hidden(eval_n_seq)\n",
    "    \n",
    "    with torch.no_grad():\n",
    "        for i in range(0, dataset.size(0)-1, bptt):\n",
    "            X, y = get_batch(dataset, i)\n",
    "            y_hat, hidden = model(X, hidden)\n",
    "            hidden = repackage_hidden(hidden)\n",
    "            sum_loss += len(X) * criterion(y_hat, y).item()\n",
    "    return sum_loss / (len(dataset)-1)"
   ]
  },
  {
   "cell_type": "code",
   "execution_count": 84,
   "metadata": {
    "ExecuteTime": {
     "end_time": "2020-06-24T02:46:13.219464Z",
     "start_time": "2020-06-24T02:46:13.177332Z"
    }
   },
   "outputs": [],
   "source": [
    "def train_epochs(ntokens=ntokens, epochs=20, log_interval=200, lr=1):\n",
    "    \"\"\"\n",
    "    Train for epochs.\n",
    "    \"\"\"\n",
    "    for epoch in range(1, epochs+1):\n",
    "        epoch_start_time = time.time()\n",
    "        model.train()\n",
    "        sum_loss = 0.\n",
    "        start_time = time.time()\n",
    "        hidden = model.init_hidden(batch_size)\n",
    "\n",
    "        for batch, i in enumerate(range(0, train_data.size(0)-1, bptt)):\n",
    "            X, y = get_batch(train_data, i)\n",
    "            # Starting each batch, we detach the hidden state from how it was previously produced.\n",
    "            # If we didn't, the model would try backpropagating all the way to start of the dataset.\n",
    "            model.zero_grad()\n",
    "            hidden = repackage_hidden(hidden)\n",
    "            y_hat, hidden = model(X, hidden)\n",
    "            loss = criterion(y_hat, y)\n",
    "            loss.backward()\n",
    "\n",
    "            # 'clip_grad_norm' helps prevent the exploding gradient problem in RNNs/LSTMs.\n",
    "            torch.nn.utils.clip_grad_norm_(model.parameters(), 0.25)\n",
    "            for p in model.parameters():\n",
    "                p.data.add_(-lr, p.grad)\n",
    "\n",
    "            sum_loss += loss.item()\n",
    "\n",
    "            if batch % log_interval == 0 and batch > 0:\n",
    "                cur_loss = sum_loss / log_interval\n",
    "                elapsed = time.time() - start_time\n",
    "                print(f'| {epoch=:3d} | {batch:5d}/{len(train_data)//bptt} batches |  {lr=:2.2f}  |  '\n",
    "                f'{elapsed/log_interval :5.2f} s/batch | loss {cur_loss:5.2f} | ppl {math.exp(cur_loss):8.2f}')\n",
    "                sum_loss = 0\n",
    "                start_time = time.time()\n",
    "        \n",
    "        val_loss = evaluate(val_data)\n",
    "        print('-'*89)\n",
    "        print(f'| end of {epoch=:3d} | time: {time.time()-epoch_start_time:5.2f}s | {val_loss=:5.2f} | '\n",
    "              f'valid ppl {math.exp(val_loss):8.2f}')\n",
    "        print('-' * 89)\n",
    "        \n",
    "        # Save the model if the validation loss is the best we've seen so far.\n",
    "        best_val_loss = None\n",
    "        if not best_val_loss or val_loss < best_val_loss:\n",
    "            with open('model.pth', 'wb') as f:\n",
    "                torch.save(model, f)\n",
    "            best_val_loss = val_loss\n",
    "        else:\n",
    "            # Anneal the learning rate if no improvement has been seen in the validation dataset.\n",
    "            lr /= 4.0"
   ]
  },
  {
   "cell_type": "code",
   "execution_count": 85,
   "metadata": {
    "ExecuteTime": {
     "end_time": "2020-06-24T02:46:14.200522Z",
     "start_time": "2020-06-24T02:46:14.196200Z"
    }
   },
   "outputs": [],
   "source": [
    "lr = 1\n",
    "epochs = 2"
   ]
  },
  {
   "cell_type": "code",
   "execution_count": 86,
   "metadata": {
    "ExecuteTime": {
     "end_time": "2020-06-24T02:48:27.384617Z",
     "start_time": "2020-06-24T02:46:21.638510Z"
    }
   },
   "outputs": [
    {
     "name": "stdout",
     "output_type": "stream",
     "text": [
      "| epoch=  1 |     7/28 batches |  lr=1.00  |   2.01 s/batch | loss  8.59 | ppl  5384.07\n",
      "| epoch=  1 |    14/28 batches |  lr=1.00  |   1.84 s/batch | loss  7.36 | ppl  1572.27\n",
      "| epoch=  1 |    21/28 batches |  lr=1.00  |   2.16 s/batch | loss  7.42 | ppl  1664.02\n",
      "| epoch=  1 |    28/28 batches |  lr=1.00  |   1.86 s/batch | loss  7.41 | ppl  1656.82\n",
      "-----------------------------------------------------------------------------------------\n",
      "| end of epoch=  1 | time: 59.31s | val_loss= 7.27 | valid ppl  1439.79\n",
      "-----------------------------------------------------------------------------------------\n",
      "| epoch=  2 |     7/28 batches |  lr=1.00  |   2.66 s/batch | loss  8.54 | ppl  5113.96\n",
      "| epoch=  2 |    14/28 batches |  lr=1.00  |   2.09 s/batch | loss  7.30 | ppl  1484.96\n",
      "| epoch=  2 |    21/28 batches |  lr=1.00  |   2.16 s/batch | loss  7.37 | ppl  1588.92\n",
      "| epoch=  2 |    28/28 batches |  lr=1.00  |   1.90 s/batch | loss  7.36 | ppl  1572.45\n",
      "-----------------------------------------------------------------------------------------\n",
      "| end of epoch=  2 | time: 65.89s | val_loss= 7.24 | valid ppl  1398.24\n",
      "-----------------------------------------------------------------------------------------\n"
     ]
    }
   ],
   "source": [
    "train_epochs(epochs=epochs, lr=lr, log_interval=7)"
   ]
  },
  {
   "cell_type": "code",
   "execution_count": 87,
   "metadata": {
    "ExecuteTime": {
     "end_time": "2020-06-24T02:48:44.149493Z",
     "start_time": "2020-06-24T02:48:43.970224Z"
    }
   },
   "outputs": [],
   "source": [
    "# Load the best saved model.\n",
    "with open('model.pth', 'rb') as f:\n",
    "    model = torch.load(f)\n",
    "    # after load the rnn params are not a continuous chunk of memory\n",
    "    # this makes them a continuous chunk, and will speed up forward pass\n",
    "    # Currently, only rnn model supports flatten_parameters function.\n",
    "    model.rnn.flatten_parameters()"
   ]
  },
  {
   "cell_type": "code",
   "execution_count": 88,
   "metadata": {
    "ExecuteTime": {
     "end_time": "2020-06-24T02:48:59.481589Z",
     "start_time": "2020-06-24T02:48:55.884695Z"
    }
   },
   "outputs": [
    {
     "name": "stdout",
     "output_type": "stream",
     "text": [
      "=========================================================================================\n",
      "| End of training | test_loss= 7.21 | test ppl  1359.52\n"
     ]
    }
   ],
   "source": [
    "# Run on test data.\n",
    "test_loss = evaluate(test_data)\n",
    "print('=' * 89)\n",
    "print(f'| End of training | {test_loss=:5.2f} | test ppl {math.exp(test_loss):8.2f}')"
   ]
  },
  {
   "cell_type": "code",
   "execution_count": null,
   "metadata": {
    "scrolled": true
   },
   "outputs": [],
   "source": [
    "# model.load_state_dict(\n",
    "#     torch.load(\n",
    "#     model_data_filepath + 'word_language_model_quantize.pth',\n",
    "#         map_location = torch.device('cpu')\n",
    "#     )\n",
    "# )\n",
    "# model.eval()\n",
    "# print(model)"
   ]
  },
  {
   "cell_type": "code",
   "execution_count": null,
   "metadata": {},
   "outputs": [],
   "source": []
  }
 ],
 "metadata": {
  "kernelspec": {
   "display_name": "Python 3",
   "language": "python",
   "name": "python3"
  },
  "language_info": {
   "codemirror_mode": {
    "name": "ipython",
    "version": 3
   },
   "file_extension": ".py",
   "mimetype": "text/x-python",
   "name": "python",
   "nbconvert_exporter": "python",
   "pygments_lexer": "ipython3",
   "version": "3.8.0"
  },
  "toc": {
   "base_numbering": 1,
   "nav_menu": {},
   "number_sections": true,
   "sideBar": true,
   "skip_h1_title": false,
   "title_cell": "Table of Contents",
   "title_sidebar": "Contents",
   "toc_cell": true,
   "toc_position": {},
   "toc_section_display": true,
   "toc_window_display": false
  }
 },
 "nbformat": 4,
 "nbformat_minor": 2
}
